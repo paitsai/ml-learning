{
 "cells": [
  {
   "cell_type": "markdown",
   "metadata": {},
   "source": [
    "这是李宏毅[GAN课程](https://www.youtube.com/watch?v=DQNNMiAP5lw)的学习笔记"
   ]
  },
  {
   "cell_type": "code",
   "execution_count": 2,
   "metadata": {},
   "outputs": [],
   "source": [
    "import torch.nn as nn\n"
   ]
  },
  {
   "cell_type": "markdown",
   "metadata": {},
   "source": [
    "![image.png](https://i-blog.csdnimg.cn/blog_migrate/fcf7cf87abbc78b0e4bdd28de26c8dd4.png#pic_center)"
   ]
  },
  {
   "cell_type": "code",
   "execution_count": 4,
   "metadata": {},
   "outputs": [],
   "source": [
    "class G(nn.Module):\n",
    "    def __init__(self,in_dims=1024,out_dim=512):\n",
    "        # in_dims指的是输出的随机向量的维度 ; out_dims指的是输出图像的尺寸\n",
    "        super(G,self).__init__()\n",
    "        self.model=nn.Sequential()\n",
    "\n",
    "        self.fn1=nn.Sequential(nn.Linear(in_dims,out_dim*1024),\n",
    "                               nn.BatchNorm1d(out_dim*1024),\n",
    "                               nn.ReLU()) #经过第一层线性层之后记得reshape为64*64*1024的形状\n",
    "        \n",
    "        self.arcconv1=nn.ConvTranspose2d(in_channels=2048,out_channels=1024,kernel_size=5,stride=4,padding=2,output_padding=3)\n",
    "        self.rl1=nn.ReLU()\n",
    "        self.arcconv2=nn.ConvTranspose2d(in_channels=1024,out_channels=256,kernel_size=3,stride=2,padding=1,output_padding=1)\n",
    "        self.rl2=nn.ReLU()\n",
    "        self.arcconv3=nn.ConvTranspose2d(in_channels=256,out_channels=64,kernel_size=3,stride=2,padding=1,output_padding=1)\n",
    "        self.rl3=nn.ReLU()\n",
    "        self.arcconv4=nn.ConvTranspose2d(in_channels=64,out_channels=3,kernel_size=3,stride=2,padding=1,output_padding=1)\n",
    "        self.rl4=nn.Tanh()\n",
    "\n",
    "        self.fn2=(self.arcconv1,self.rl1,self.arcconv2,self.rl2,self.arcconv3,self.rl3,self.arcconv4,self.rl4)\n",
    "        \n",
    "\n",
    "    def forward(self,x):\n",
    "        z=self.f1(x)\n",
    "        z=z.view(-1,1024,64,64)\n",
    "        z=self.fn2(z)\n",
    "        return z"
   ]
  }
 ],
 "metadata": {
  "kernelspec": {
   "display_name": "gpu",
   "language": "python",
   "name": "python3"
  },
  "language_info": {
   "codemirror_mode": {
    "name": "ipython",
    "version": 3
   },
   "file_extension": ".py",
   "mimetype": "text/x-python",
   "name": "python",
   "nbconvert_exporter": "python",
   "pygments_lexer": "ipython3",
   "version": "3.8.19"
  }
 },
 "nbformat": 4,
 "nbformat_minor": 2
}
