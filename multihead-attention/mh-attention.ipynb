{
 "cells": [
  {
   "cell_type": "code",
   "execution_count": null,
   "metadata": {},
   "outputs": [],
   "source": [
    "import torch\n",
    "import torch.nn as nn\n",
    "import torch.nn.functional as F"
   ]
  },
  {
   "cell_type": "code",
   "execution_count": null,
   "metadata": {},
   "outputs": [],
   "source": [
    "class MultiHeadAttention(nn.Module):\n",
    "    def __init__(self, embed_size, heads):\n",
    "        super(MultiHeadAttention, self).__init__()\n",
    "        self.embed_size = embed_size\n",
    "        self.heads = heads\n",
    "        self.head_dim = embed_size // heads\n",
    "\n",
    "        assert (\n",
    "            self.head_dim * heads == embed_size\n",
    "        ), \"Embedding size must be divisible by heads\"\n",
    "\n",
    "        self.values = nn.Linear(embed_size, embed_size, bias=False)\n",
    "        self.keys = nn.Linear(embed_size, embed_size, bias=False)\n",
    "        self.queries = nn.Linear(embed_size, embed_size, bias=False)\n",
    "        self.fc_out = nn.Linear(embed_size, embed_size)\n",
    "\n",
    "    def forward(self, x):\n",
    "        N = x.shape[0]  # Batch size\n",
    "        length = x.shape[1]  # Sequence length\n",
    "\n",
    "        # Split the embedding into multiple heads\n",
    "        values = self.values(x).view(N, length, self.heads, self.head_dim)\n",
    "        keys = self.keys(x).view(N, length, self.heads, self.head_dim)\n",
    "        queries = self.queries(x).view(N, length, self.heads, self.head_dim)\n",
    "\n",
    "        # Transpose to get dimensions for attention calculation\n",
    "        values = values.permute(0, 2, 1, 3)  # (N, heads, length, head_dim)\n",
    "        keys = keys.permute(0, 2, 1, 3)      # (N, heads, length, head_dim)\n",
    "        queries = queries.permute(0, 2, 1, 3)  # (N, heads, length, head_dim)\n",
    "\n",
    "        # Calculate attention scores\n",
    "        energy = torch.einsum(\"nqhd,nkhd->nhqk\", [queries, keys])  # (N, heads, length, length)\n",
    "        attention = F.softmax(energy / (self.embed_size ** (1 / 2)), dim=3)\n",
    "\n",
    "        # Apply attention to values\n",
    "        out = torch.einsum(\"nhql,nlhd->nqhd\", [attention, values]).reshape(N, length, self.embed_size)\n",
    "        \n",
    "        # Pass through the final linear layer\n",
    "        out = self.fc_out(out)\n",
    "        return out\n"
   ]
  },
  {
   "cell_type": "code",
   "execution_count": null,
   "metadata": {},
   "outputs": [],
   "source": [
    "# Example usage\n",
    "embed_size = 256  # Embedding size\n",
    "num_heads = 8     # Number of attention heads\n",
    "multihead_attention = MultiHeadAttention(embed_size, num_heads)\n",
    "\n",
    "# Sample input (batch_size, sequence_length, embedding_size)\n",
    "x = torch.rand(64, 10, embed_size)  # Example input\n",
    "output = multihead_attention(x)\n",
    "print(output.shape)  # Should be (64, 10, 256)"
   ]
  }
 ],
 "metadata": {
  "kernelspec": {
   "display_name": "gpu",
   "language": "python",
   "name": "python3"
  },
  "language_info": {
   "name": "python",
   "version": "3.8.19"
  }
 },
 "nbformat": 4,
 "nbformat_minor": 2
}
